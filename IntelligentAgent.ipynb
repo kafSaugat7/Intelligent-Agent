{
  "nbformat": 4,
  "nbformat_minor": 0,
  "metadata": {
    "colab": {
      "provenance": [],
      "authorship_tag": "ABX9TyNZojcDx7Tnn5Ck/ip/7SCx",
      "include_colab_link": true
    },
    "kernelspec": {
      "name": "python3",
      "display_name": "Python 3"
    },
    "language_info": {
      "name": "python"
    }
  },
  "cells": [
    {
      "cell_type": "markdown",
      "metadata": {
        "id": "view-in-github",
        "colab_type": "text"
      },
      "source": [
        "<a href=\"https://colab.research.google.com/github/kafSaugat7/Intelligent-Agent/blob/main/IntelligentAgent.ipynb\" target=\"_parent\"><img src=\"https://colab.research.google.com/assets/colab-badge.svg\" alt=\"Open In Colab\"/></a>"
      ]
    },
    {
      "cell_type": "code",
      "execution_count": 5,
      "metadata": {
        "id": "oBlSz0r-acHa",
        "colab": {
          "base_uri": "https://localhost:8080/"
        },
        "outputId": "edb524ac-9abd-4e19-aae5-4958d78fdfaf"
      },
      "outputs": [
        {
          "output_type": "stream",
          "name": "stdout",
          "text": [
            "Step 1:\n",
            "Location A is Dirty. Cleaning...\n",
            "Location A is now Clean.\n",
            "Step 2:\n",
            "Location A is Clean. Moving to next location.\n",
            "Step 3:\n",
            "Location B is Clean. Moving to next location.\n",
            "Step 4:\n",
            "Location A is Clean. Moving to next location.\n",
            "Step 5:\n",
            "Location B is Clean. Moving to next location.\n"
          ]
        }
      ],
      "source": [
        "class Environment:\n",
        "    def __init__(self):\n",
        "        self.location_condition = {'A': 'Dirty', 'B': 'Clean'}\n",
        "class SimpleReflexAgent:\n",
        "    def __init__(self, environment):\n",
        "        self.location = 'A'\n",
        "        self.environment = environment\n",
        "    def perceive(self):\n",
        "        return self.environment.location_condition[self.location]\n",
        "    def act(self):\n",
        "        if self.perceive() == 'Dirty':\n",
        "            print(f\"Location {self.location} is Dirty. Cleaning...\")\n",
        "            self.environment.location_condition[self.location] = 'Clean'\n",
        "            print(f\"Location {self.location} is now Clean.\")\n",
        "        else:\n",
        "            print(f\"Location {self.location} is Clean. Moving to next location.\")\n",
        "            self.location = 'B' if self.location == 'A' else 'A'\n",
        "def run_agent():\n",
        "    env = Environment()\n",
        "    agent = SimpleReflexAgent(env)\n",
        "    for step in range(5):\n",
        "        print(f\"Step {step+1}:\")\n",
        "        agent.act()\n",
        "run_agent()\n"
      ]
    },
    {
      "cell_type": "code",
      "source": [],
      "metadata": {
        "id": "4zt38jhpbNYk"
      },
      "execution_count": null,
      "outputs": []
    }
  ]
}