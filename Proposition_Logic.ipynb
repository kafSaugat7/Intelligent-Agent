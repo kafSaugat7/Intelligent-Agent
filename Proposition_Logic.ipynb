{
  "nbformat": 4,
  "nbformat_minor": 0,
  "metadata": {
    "colab": {
      "provenance": [],
      "authorship_tag": "ABX9TyPAL0SUUNPKEWv2moi8EXUW",
      "include_colab_link": true
    },
    "kernelspec": {
      "name": "python3",
      "display_name": "Python 3"
    },
    "language_info": {
      "name": "python"
    }
  },
  "cells": [
    {
      "cell_type": "markdown",
      "metadata": {
        "id": "view-in-github",
        "colab_type": "text"
      },
      "source": [
        "<a href=\"https://colab.research.google.com/github/kafSaugat7/Intelligent-Agent/blob/main/Proposition_Logic.ipynb\" target=\"_parent\"><img src=\"https://colab.research.google.com/assets/colab-badge.svg\" alt=\"Open In Colab\"/></a>"
      ]
    },
    {
      "cell_type": "code",
      "execution_count": null,
      "metadata": {
        "colab": {
          "base_uri": "https://localhost:8080/",
          "height": 432
        },
        "id": "PZjC23x4iSTc",
        "outputId": "b1ab02bf-0d09-4328-8c0d-405801b8ae8a"
      },
      "outputs": [
        {
          "output_type": "stream",
          "name": "stdout",
          "text": [
            "Collecting logics\n",
            "  Downloading logics-1.10.3-py3-none-any.whl.metadata (12 kB)\n",
            "Collecting anytree>=2.8.0 (from logics)\n",
            "  Downloading anytree-2.12.1-py3-none-any.whl.metadata (8.1 kB)\n",
            "Requirement already satisfied: six in /usr/local/lib/python3.10/dist-packages (from anytree>=2.8.0->logics) (1.16.0)\n",
            "Downloading logics-1.10.3-py3-none-any.whl (169 kB)\n",
            "\u001b[2K   \u001b[90m━━━━━━━━━━━━━━━━━━━━━━━━━━━━━━━━━━━━━━━━\u001b[0m \u001b[32m169.1/169.1 kB\u001b[0m \u001b[31m3.3 MB/s\u001b[0m eta \u001b[36m0:00:00\u001b[0m\n",
            "\u001b[?25hDownloading anytree-2.12.1-py3-none-any.whl (44 kB)\n",
            "\u001b[2K   \u001b[90m━━━━━━━━━━━━━━━━━━━━━━━━━━━━━━━━━━━━━━━━\u001b[0m \u001b[32m44.9/44.9 kB\u001b[0m \u001b[31m3.1 MB/s\u001b[0m eta \u001b[36m0:00:00\u001b[0m\n",
            "\u001b[?25hInstalling collected packages: anytree, logics\n",
            "Successfully installed anytree-2.12.1 logics-1.10.3\n"
          ]
        },
        {
          "output_type": "error",
          "ename": "TypeError",
          "evalue": "vars expected at most 1 argument, got 3",
          "traceback": [
            "\u001b[0;31m---------------------------------------------------------------------------\u001b[0m",
            "\u001b[0;31mTypeError\u001b[0m                                 Traceback (most recent call last)",
            "\u001b[0;32m<ipython-input-6-cd244e939056>\u001b[0m in \u001b[0;36m<cell line: 3>\u001b[0;34m()\u001b[0m\n\u001b[1;32m      1\u001b[0m \u001b[0mget_ipython\u001b[0m\u001b[0;34m(\u001b[0m\u001b[0;34m)\u001b[0m\u001b[0;34m.\u001b[0m\u001b[0msystem\u001b[0m\u001b[0;34m(\u001b[0m\u001b[0;34m'pip install logics'\u001b[0m\u001b[0;34m)\u001b[0m\u001b[0;34m\u001b[0m\u001b[0;34m\u001b[0m\u001b[0m\n\u001b[1;32m      2\u001b[0m \u001b[0;32mfrom\u001b[0m \u001b[0mlogics\u001b[0m \u001b[0;32mimport\u001b[0m \u001b[0;34m*\u001b[0m\u001b[0;34m\u001b[0m\u001b[0;34m\u001b[0m\u001b[0m\n\u001b[0;32m----> 3\u001b[0;31m \u001b[0mp\u001b[0m\u001b[0;34m,\u001b[0m\u001b[0mq\u001b[0m\u001b[0;34m,\u001b[0m\u001b[0mr\u001b[0m\u001b[0;34m=\u001b[0m\u001b[0mvars\u001b[0m\u001b[0;34m(\u001b[0m\u001b[0;34m'P'\u001b[0m\u001b[0;34m,\u001b[0m\u001b[0;34m'Q'\u001b[0m\u001b[0;34m,\u001b[0m\u001b[0;34m'R'\u001b[0m\u001b[0;34m)\u001b[0m\u001b[0;34m\u001b[0m\u001b[0;34m\u001b[0m\u001b[0m\n\u001b[0m\u001b[1;32m      4\u001b[0m \u001b[0mp\u001b[0m\u001b[0;34m\u001b[0m\u001b[0;34m\u001b[0m\u001b[0m\n\u001b[1;32m      5\u001b[0m \u001b[0mProposition\u001b[0m\u001b[0;34m(\u001b[0m\u001b[0mp\u001b[0m\u001b[0;34m)\u001b[0m\u001b[0;34m\u001b[0m\u001b[0;34m\u001b[0m\u001b[0m\n",
            "\u001b[0;31mTypeError\u001b[0m: vars expected at most 1 argument, got 3"
          ]
        }
      ],
      "source": [
        "\n",
        "!pip install logics\n",
        "from logics import *\n",
        "p,q,r=vars('P','Q','R')\n",
        "p\n",
        "Proposition(p)\n",
        "\n",
        "#\"if p implies q, then p\"\n",
        "formula=(p>>q)>>p\n",
        "formula.print_truth_table()\n",
        "print(\"Contingency = \", formula.is_contingency())\n",
        "print(\"Contradiction = \", formula.is_contradiction())\n",
        "print(\"Tautology = \", formula.is_tautology())\n",
        "\n",
        "#((p & q) implies r) is logically equivalent to (p implies (q implies r))\n",
        "formula1=((p&q)>>r).iff(p>>(q>>r))\n",
        "formula1.print_truth_table()\n",
        "print(\"Tautology = \",formula1.is_tautology())\n",
        "print(\"Contingency = \", formula.is_contingency())\n",
        "print(\"Contradiction = \", formula.is_contradiction())\n",
        "print(\"Tautology = \", formula.is_tautology())\n"
      ]
    },
    {
      "cell_type": "code",
      "source": [],
      "metadata": {
        "id": "C4a6JV_wd8md"
      },
      "execution_count": null,
      "outputs": []
    },
    {
      "cell_type": "code",
      "source": [],
      "metadata": {
        "id": "MUDPhOXxfXj2"
      },
      "execution_count": null,
      "outputs": []
    },
    {
      "cell_type": "code",
      "source": [
        "!pip install logics\n",
        "from logics import Proposition as Var # Import the Proposition class from the logics module and assign it to the variable Var\n",
        "from logics import *\n",
        "\n",
        "# Define propositions\n",
        "p, q, r = Var('P'), Var('Q'), Var('R')\n",
        "\n",
        "# (p implies q) implies p\n",
        "formula = (p >> q) >> p\n",
        "formula.print_truth_table()\n",
        "print(\"Contingency = \", formula.is_contingency())\n",
        "print(\"Contradiction = \", formula.is_contradiction())\n",
        "print(\"Tautology = \", formula.is_tautology())\n",
        "\n",
        "# ((p & q) implies r) is logically equivalent to (p implies (q implies r))\n",
        "formula1 = ((p & q) >> r).iff(p >> (q >> r))\n",
        "formula1.print_truth_table()\n",
        "print(\"Tautology = \", formula1.is_tautology())\n",
        "print(\"Contingency = \", formula1.is_contingency())\n",
        "print(\"Contradiction = \", formula1.is_contradiction())"
      ],
      "metadata": {
        "id": "nI5EkUVpeQdI"
      },
      "execution_count": 13,
      "outputs": []
    },
    {
      "cell_type": "code",
      "source": [],
      "metadata": {
        "id": "NnVdbDXxdfm1"
      },
      "execution_count": null,
      "outputs": []
    }
  ]
}